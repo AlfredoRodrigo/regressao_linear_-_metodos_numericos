{
 "cells": [
  {
   "cell_type": "markdown",
   "metadata": {},
   "source": [
    "# <center>__MÉTODOS NUMÉRICOS__</center>\n",
    "## <center>__PROJETO DA UNIDADE 2__</center>\n",
    "\n",
    "#### <center>__ALUNO:__ Alfredo Rodrigo Sousa da Silva (201611250004)</center>"
   ]
  },
  {
   "cell_type": "markdown",
   "metadata": {},
   "source": [
    "<div class=\"alert alert-block alert-info\">\n",
    "1. INTRODUÇÃO\n",
    "</div>"
   ]
  },
  {
   "cell_type": "markdown",
   "metadata": {},
   "source": [
    "O ___Machine Learning___, também conhecido em português como __aprendizado de máquina__, é o processo que possibilita que um computador, através de seus algoritmos, seja capaz de tomar decisões de acordo com aquilo que lhe é inserido. O aprendizado de máquina se baseia no treinamento dos algoritmos, fazendo com que estes aprendam a executar as tarefas, e não somente executem instruções pré-definidas. Desta forma, as máquinas conseguem procurar e encontrar, dentre uma grande quantidade de dados, informações importantes, sem exatamente saber o que estão procurando. Nesse sentido, existem alguns modelos de aprendizagem de máquina, que se baseiam em diferentes métodos para possibilitar esse aprendizado.\n",
    "\n",
    "O aprendizado de máquina vem para suprir diversas necessidades, e dentre elas, está a predição de valores. Quando queremos prever algo com base em alguns dados já existentes, nos utilizaremos de algum modelo de predição para isto. Dentre os diversos modelos de predição existentes, está o modelo de __regressão linear__.\n",
    "\n",
    "Ao longo deste documento, veremos exatamente a explicação da regressão linear, apresentando a sua motivação e observando o que esse tipo de regressão visa resolver; a implementação dos principais métodos aplicados à solução de regressão linear, utilizando a linguagem de programação Python e algumas de suas bibliotecas, além de métodos como o de solução ingênua, equações normais ou método de Cholesky e fatoração QR, entre outros; e alguns casos de uso, exemplificando e comparando o uso dos diversos métodos para a obtenção da regressão linear."
   ]
  },
  {
   "cell_type": "markdown",
   "metadata": {},
   "source": [
    "<div class=\"alert alert-block alert-info\">\n",
    "2. DESCRIÇÃO DO PROBLEMA\n",
    "</div>"
   ]
  },
  {
   "cell_type": "markdown",
   "metadata": {},
   "source": [
    "A regressão linear é um método da álgebra linear que visa modelar uma relação entre uma variável dependente e uma ou mais variáveis independentes. Dependendo da quantidade de variáveis independentes que a função possui, a regressão linear pode ser do tipo simples, quando ela lida com somente uma variável independente, ou do tipo múltipla, também conhecido como multivariada, quando ela lida com duas ou mais variáveis independentes.\n",
    "\n",
    "Sobre esses dois tipos, de forma resumida, a regressão linear simples busca encontrar os coeficientes de uma função linear, a partir da relação entre a variável dependente $y$ e a variável independente $x$, enquanto que a regressão linear múltipla (multivariada) busca o mesmo fim, porém, ela relaciona uma variável dependente $y$ com duas ou mais variáveis independentes. Abaixo, somente para facilitar o entendimento do que foi dito, temos um exemplo de uma solução direta para a regressão linear a partir de um conjunto de dados 2D (BROWNLEE, 2018):"
   ]
  },
  {
   "cell_type": "code",
   "execution_count": 7,
   "metadata": {
    "scrolled": true
   },
   "outputs": [
    {
     "name": "stdout",
     "output_type": "stream",
     "text": [
      "[1.00233226]\n"
     ]
    },
    {
     "data": {
      "image/png": "[encoded data removed]",
      "text/plain": [
       "<Figure size 432x288 with 1 Axes>"
      ]
     },
     "metadata": {
      "needs_background": "light"
     },
     "output_type": "display_data"
    }
   ],
   "source": [
    "# solve directly\n",
    "from numpy import array\n",
    "from numpy.linalg import inv\n",
    "from matplotlib import pyplot\n",
    "\n",
    "data = array([\n",
    "    [0.05, 0.12],\n",
    "    [0.18, 0.22],\n",
    "    [0.31, 0.35],\n",
    "    [0.42, 0.38],\n",
    "    [0.5, 0.49],\n",
    "    ])\n",
    "\n",
    "X, y = data[:,0], data[:,1]\n",
    "X = X.reshape((len(X), 1))\n",
    "\n",
    "# linear least squares\n",
    "b = inv(X.T.dot(X)).dot(X.T).dot(y)\n",
    "print(b)\n",
    "\n",
    "# predict using coefficients\n",
    "yhat = X.dot(b)\n",
    "\n",
    "# plot data and predictions\n",
    "pyplot.scatter(X, y)\n",
    "pyplot.plot(X, yhat, color='red')\n",
    "pyplot.show()"
   ]
  },
  {
   "cell_type": "markdown",
   "metadata": {},
   "source": [
    "(Gráfico de dispersão da solução direta para o problema de regressão linear)\n",
    "\n",
    "A regressão linear resulta em uma função linear do tipo $y = ax + b$, onde esta função descreve uma tendência entre as variáveis do conjunto de dados aplicado, evidenciando a relação entre elas. No gráfico acima, essa função está sendo representada pela reta vermelha, onde podemos observar que ela tende em se ajustar entre os valores do conjunto de dados.\n",
    "\n",
    "A regressão linear torna possível a predição de valores com base em um conjunto de dados pré-existente. Ela pode ser utilizada, por exemplo, para determinar o valor de um imóvel de acordo com sua localização ou ano de construção, ou para prever se haverá um terremoto em algum determinado dia, a partir de dados sismológicos anteriores, ou até mesmo para estimar a progressão de uma doença ao longo do tempo. Esta última aplicabilidade será melhor descrita neste documento, na Seção 5. CASOS DE USO, por meio de um exemplo.\n",
    "\n",
    "<blockquote>\n",
    "<b>Observação:</b>\n",
    "    \n",
    "É importante notar que, apesar de o resultado da regressão linear ser uma predição, não significa exatamente que o previsto irá acontecer. Neste caso, quando for necessário prever algo, é interessante que se use também, além da regressão linear, outras ferramentas de predição, observando o contexto e a necessidade de cada problema.\n",
    "</blockquote>\n",
    "\n",
    "A regressão linear pode ser implementada utilizando diferentes métodos, que por sua vez possuem diferentes medidas de desempenho, e devem ser utilizados de acordo com a necessidade, já que o método que resolve um problema pode não resolver outro com a mesma eficiência. Na próxima Seção (3. MÉTODOS APLICADOS À SOLUÇÃO), veremos a descrição dos métodos numéricos que são utilizados para implementar a regressão linear, a saber: solução ingênua, Cholesky, fatoração QR e SVD."
   ]
  },
  {
   "cell_type": "markdown",
   "metadata": {},
   "source": [
    "<div class=\"alert alert-block alert-info\">\n",
    "3. MÉTODOS APLICADOS À SOLUÇÃO\n",
    "</div>"
   ]
  },
  {
   "cell_type": "markdown",
   "metadata": {},
   "source": [
    "Para solucionar os problemas de refressão linear, podemos utilizar vários algoritmos. Abaixo, está descrita a solução ingênua para a regressão linear, que se utiliza de equações normais, além dos métodos de Cholesky, fatoração QR e SVD.\n",
    "\n",
    "Antes de explicar cada método, se faz necessário o entendimento sobre mínimos quadrados e equações normais, assuntos esses que estão explicados a seguir.\n",
    "\n",
    "<div class=\"alert\">\n",
    "3.1. MÍNIMOS QUADRADOS E EQUAÇÕES NORMAIS\n",
    "</div>\n",
    "\n",
    "A regressão linear torna possível a predição de valores a partir da modelagem de uma relação entre uma variável dependente e uma ou mais variáveis independentes. Com ela, podemos estimar valores utilizando um conjunto de dados pré-existente. Para isso, a regressão linear se utiliza do __método dos mínimos quadrados__ para encontrar um melhor ajuste para um conjunto de dados, minimizando a soma dos quadrados das diferenças entre o valor previsto e o valor real:\n",
    "\n",
    "$$||Ax-b||_2$$\n",
    "\n",
    "Para que essa minimização seja feita, podemos pensar que \"estamos interessados em onde o vetor $b$ está mais próximo do subespaço estentido por $A$ (chamado de intervalo de $A$)\". (THOMAS, 2017). Pensando dessa forma, esse espaço é exatamente a projeção do vetor $b$ em $A$. Então, como $b-Ax$ é ortogonal, ou seja, é perpendicular a todas as colunas de $A$ (GRAÇA, 2016), então:\n",
    "\n",
    "$$A^T(b-Ax) = 0$$\n",
    "\n",
    "Abaixo, temos uma figura que demonstra a projeção de $b$ em $A$, e a perpendicularidade de $b - Ax$ em relação a $A$:\n",
    "\n",
    "<center><br><b>Figura 1</b> - Perpendicular</center>\n",
    "<img src=\"https://raw.githubusercontent.com/AlfredoRodrigo/regressao_linear_-_metodos_numericos/main/imagens/Perpendicular.png?token=AFNDACB63IJDC6ZT2JPTOTLAS7NVY\">\n",
    "<center>Fonte: GRAÇA, 2016.</center>\n",
    "\n",
    "Assim, como $A^T(b-Ax) = 0$, então, reescrevendo essa fórmula, temos as __equações normais__ como sendo:\n",
    "\n",
    "$$A^TAx = A^Tb$$\n",
    "\n",
    "Essas equações também podem ser escritas da forma:\n",
    "\n",
    "$$x = (A^TA)^{-1}A^Tb$$\n",
    "\n",
    "<div class=\"alert\">\n",
    "3.2. SOLUÇÃO INGÊNUA\n",
    "</div>\n",
    "\n",
    "A solução ingênua (também chamada de solução direta) recebe esse nome por ser o método mais simples de resolução da regressão linear, mas que ao mesmo tempo não resolve todos os casos de maneira eficiente. Ela implementa exatamente a forma mais simples das equações normais, ou seja, $x = (A^TA)^{-1}A^Tb$, onde $x$ é o vetor resultado da regressão linear.\n",
    "\n",
    "<div class=\"alert\">\n",
    "3.3. CHOLESKY\n",
    "</div>\n",
    "\n",
    "O método de Cholesky para regressão linear utiliza o mesmo princípio de funcionamento do método da decomposição LU.\n",
    "<blockquote>\n",
    "<b>Para relembrar:</b>\n",
    "    \n",
    "A decomposição LU é um método que decompõe a matriz $A$ em um produto $A = LU$, onde as matrizes $L$ e $U$ são triangulares inferiores e superiores, respectivamente.\n",
    "</blockquote>\n",
    "\n",
    "<div class=\"alert\">\n",
    "3.4. FATORAÇÃO QR\n",
    "</div>\n",
    "\n",
    "A fatoração QR de uma matriz, também conhecida como decomposição QR, é um método que decompõe uma matriz $A$ em um produto $A = QR$ de uma matriz ortogonal $Q$ e uma matriz triangular superior $R$. A fatoração QR é frequentemente usada para resolver o problema de mínimos quadrados linear e é a base para um determinado algoritmo de autovalores, o algoritmo QR.\n",
    "\n",
    "Cholesky, semelhantemente, fatora a matriz $A$ em outras duas matrizes, sendo uma triangular inferior e outra triangular superior. Porém, esta segunda é exatamente a matriz transversa da primeira, ou seja:\n",
    "\n",
    "$$A = LL^T$$\n",
    "\n",
    "<div class=\"alert\">\n",
    "3.5. SVD\n",
    "</div>\n",
    "\n",
    "A sigla SVD vem do inglês _singular value decomposition_, que em tradução no português, significa __decomposição em valores singulares__. Esse método de regressão linear consiste em"
   ]
  },
  {
   "cell_type": "markdown",
   "metadata": {},
   "source": [
    "<div class=\"alert alert-block alert-info\">\n",
    "4. IMPLEMENTAÇÃO\n",
    "</div>"
   ]
  },
  {
   "cell_type": "markdown",
   "metadata": {},
   "source": [
    "Aqui você irá  mostrar sua implementação para o problema considerado, explicando o que foi feito em cada passo e cada saída de cada trecho de código, sempre relacionando com a descrição do método mostrada acima."
   ]
  },
  {
   "cell_type": "markdown",
   "metadata": {},
   "source": [
    "<div class=\"alert alert-block alert-info\">\n",
    "5. CASOS DE USO\n",
    "</div>"
   ]
  },
  {
   "cell_type": "markdown",
   "metadata": {},
   "source": [
    "Nessa seção, você aplicará sua implementação em pelo menos dois casos: um é o caso descrito nas referências, e outro, um caso similar que você encontrará e testará sua implementação. __Cuidado para evitar casos iguais aos demais colegas!__"
   ]
  },
  {
   "cell_type": "code",
   "execution_count": 16,
   "metadata": {},
   "outputs": [
    {
     "name": "stdout",
     "output_type": "stream",
     "text": [
      "[[ 2.  0.  0.  0.]\n",
      " [-1.  3.  0.  0.]\n",
      " [ 2.  1.  1.  0.]\n",
      " [ 5.  1.  2.  1.]]\n",
      "-------------------------\n",
      "[[ 2. -1.  2.  5.]\n",
      " [ 0.  3.  1.  1.]\n",
      " [ 0.  0.  1.  2.]\n",
      " [ 0.  0.  0.  1.]]\n"
     ]
    }
   ],
   "source": [
    "from scipy import linalg\n",
    "import numpy as np\n",
    "\n",
    "B = np.array([[4, -2, 4, 10],\n",
    "              [-2, 10, 1, -2],\n",
    "              [4 ,1 ,6 ,13],\n",
    "              [10, -2, 13, 31]])\n",
    "\n",
    "L = scipy.linalg.cholesky(B, lower=True) #retorna L\n",
    "Lt = scipy.linalg.cholesky(B) #retorna L^T\n",
    "\n",
    "print(L)\n",
    "print(\"-------------------------\")\n",
    "print(Lt)"
   ]
  },
  {
   "cell_type": "code",
   "execution_count": 12,
   "metadata": {
    "scrolled": true
   },
   "outputs": [
    {
     "data": {
      "text/plain": [
       "array([ -25.713473, -224.323015,  496.729726,  341.281487, -898.85267 ,\n",
       "        569.962979,  182.734949,  163.778935,  852.143775,   75.318523,\n",
       "        151.323305])"
      ]
     },
     "execution_count": 12,
     "metadata": {},
     "output_type": "execute_result"
    }
   ],
   "source": [
    "from sklearn import datasets, linear_model, metrics\n",
    "from sklearn.model_selection import train_test_split\n",
    "from sklearn.preprocessing import PolynomialFeatures\n",
    "import math, scipy, numpy as np\n",
    "from scipy import linalg\n",
    "\n",
    "np.set_printoptions(precision=6)\n",
    "\n",
    "data = datasets.load_diabetes()\n",
    "\n",
    "#print(data.data.shape)\n",
    "\n",
    "#print(data.target.shape)\n",
    "\n",
    "feature_names=['age', 'sex', 'bmi', 'bp', 's1', 's2', 's3', 's4', 's5', 's6']\n",
    "\n",
    "trn,test,y_trn,y_test = train_test_split(data.data, data.target, test_size=0.2)\n",
    "\n",
    "trn_int = np.c_[trn, np.ones(trn.shape[0])]\n",
    "\n",
    "#def ls_chol(A, b):\n",
    "#    R = scipy.linalg.cholesky(A.T @ A)\n",
    "#    w = scipy.linalg.solve_triangular(R, A.T @ b, trans='T')\n",
    "#    return scipy.linalg.solve_triangular(R, w)\n",
    "\n",
    "def ls_chol(A, b):\n",
    "    R = scipy.linalg.cholesky(A.T @ A)\n",
    "    w = scipy.linalg.solve_triangular(R, A.T @ b, trans='T')\n",
    "    return scipy.linalg.solve_triangular(R, w)\n",
    "\n",
    "coeffs_chol = ls_chol(trn_int, y_trn)\n",
    "\n",
    "coeffs_chol"
   ]
  },
  {
   "cell_type": "markdown",
   "metadata": {},
   "source": [
    "$$Ax = b$$\n",
    "\n",
    "Seja sempre $Q$ uma matriz ortogonal. Se $A = QR$, então\n",
    "\n",
    "$$QRx = b$$\n",
    "\n",
    "Multiplicando ambos os lados por $Q^T$, temos:\n",
    "\n",
    "$$Q^TQRx = Q^Tb$$\n",
    "\n",
    "Tem uma propriedade que diz que $Q^T$ = $Q^{-1}$. Desta forma, modificando a fórmula acima, temos:\n",
    "\n",
    "$$Q^{-1}QRx = Q^{-1}b$$\n",
    "\n",
    "Tem outra propriedade que diz que, dada uma matriz $M$ quadrada invertível, então:\n",
    "\n",
    "$$MM^{-1} = M^{-1}M = I (identidade)$$\n",
    "\n",
    "Já que toda matriz ortogonal é invertível, e como a matriz tratata é quadrada, então:\n",
    "\n",
    "$$QQ^{-1} = Q^{-1}Q = I (identidade)$$\n",
    "\n",
    "Logo,\n",
    "\n",
    "$$Q^{-1}QRx = Q^{-1}b$$\n",
    "$$IRx = Q^{-1}b$$\n",
    "\n",
    "Pelas propriedades de identidade, qualquer matriz $A$ multiplicada pela sua identidade $I$ é igual a própria matriz $A$. Desta forma, se $AI = IA = A$, então:\n",
    "\n",
    "$$IR = RI = R$$\n",
    "\n",
    "Logo,\n",
    "\n",
    "$$IRx = Q^{-1}b$$\n",
    "$$Rx = Q^{-1}b$$\n",
    "\n",
    "Como $Q$ é ortogonal, e sabendo que $Q^{-1}$ = $Q^T$, então:\n",
    "\n",
    "$$Rx = Q^Tb$$"
   ]
  }
 ],
 "metadata": {
  "kernelspec": {
   "display_name": "Python 3",
   "language": "python",
   "name": "python3"
  },
  "language_info": {
   "codemirror_mode": {
    "name": "ipython",
    "version": 3
   },
   "file_extension": ".py",
   "mimetype": "text/x-python",
   "name": "python",
   "nbconvert_exporter": "python",
   "pygments_lexer": "ipython3",
   "version": "3.8.5"
  }
 },
 "nbformat": 4,
 "nbformat_minor": 4
}
